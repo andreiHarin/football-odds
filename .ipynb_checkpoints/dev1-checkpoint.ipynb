{
 "cells": [
  {
   "cell_type": "code",
   "execution_count": null,
   "id": "51ffda13",
   "metadata": {},
   "outputs": [],
   "source": []
  },
  {
   "cell_type": "code",
   "execution_count": null,
   "id": "fbcbc8a3",
   "metadata": {},
   "outputs": [],
   "source": []
  },
  {
   "cell_type": "code",
   "execution_count": 1,
   "id": "eea8681a",
   "metadata": {},
   "outputs": [],
   "source": [
    "W = 3\n",
    "L = 0\n",
    "D = 1"
   ]
  },
  {
   "cell_type": "code",
   "execution_count": null,
   "id": "70f98b73",
   "metadata": {},
   "outputs": [],
   "source": []
  },
  {
   "cell_type": "code",
   "execution_count": 137,
   "id": "a073452c",
   "metadata": {},
   "outputs": [],
   "source": [
    "s11 = \"LLDDDWDWDWDLWDLWDLWWW\""
   ]
  },
  {
   "cell_type": "code",
   "execution_count": 132,
   "id": "0917a0a6",
   "metadata": {},
   "outputs": [],
   "source": [
    "list_string = [*s1][::-1]"
   ]
  },
  {
   "cell_type": "code",
   "execution_count": null,
   "id": "cca2c167",
   "metadata": {},
   "outputs": [],
   "source": []
  },
  {
   "cell_type": "code",
   "execution_count": 135,
   "id": "46403a33",
   "metadata": {},
   "outputs": [
    {
     "name": "stdout",
     "output_type": "stream",
     "text": [
      "1.426218427471941\n"
     ]
    }
   ],
   "source": [
    "residual = 1\n",
    "form = 0\n",
    "\n",
    "for i in list_string:\n",
    "    ratio = 0.2\n",
    "    coefficient = ratio * residual\n",
    "    residual -= coefficient\n",
    "    \n",
    "    if i.lower() == 'W'.lower():\n",
    "        form += coefficient * 2\n",
    "    elif i.lower() == 'D'.lower():\n",
    "        form += coefficient * 1\n",
    "    else:\n",
    "        form += coefficient * 0\n",
    "    \n",
    "\n",
    "print(form)    \n",
    "    "
   ]
  },
  {
   "cell_type": "code",
   "execution_count": 192,
   "id": "db95c150",
   "metadata": {},
   "outputs": [],
   "source": [
    "def compute_form(s1: str) -> float:\n",
    "    residual = 1\n",
    "    form = 0\n",
    "    list_string = [*s1][::-1]\n",
    "    \n",
    "    for i in list_string:\n",
    "        ratio = 0.18\n",
    "        coefficient = ratio * residual\n",
    "        residual -= coefficient\n",
    "\n",
    "        if i.lower() == 'W'.lower():\n",
    "            form += coefficient * 2\n",
    "        elif i.lower() == 'D'.lower():\n",
    "            form += coefficient * 1\n",
    "        else:\n",
    "            form += coefficient * 0\n",
    "    \n",
    "    return form"
   ]
  },
  {
   "cell_type": "code",
   "execution_count": 199,
   "id": "759f45d8",
   "metadata": {},
   "outputs": [],
   "source": [
    "s11 = \"WDLWDLWDLWDLWDWLWLDWDLDWLWW\""
   ]
  },
  {
   "cell_type": "code",
   "execution_count": 200,
   "id": "3c9d50ac",
   "metadata": {},
   "outputs": [
    {
     "data": {
      "text/plain": [
       "1.275267339382079"
      ]
     },
     "execution_count": 200,
     "metadata": {},
     "output_type": "execute_result"
    }
   ],
   "source": [
    "compute_form(s11)"
   ]
  },
  {
   "cell_type": "code",
   "execution_count": 201,
   "id": "8b9d9ce8",
   "metadata": {},
   "outputs": [],
   "source": [
    "s11 = \"LLLLLLLLLLLLLLLLLLLLLLLLLLLLLLLLLLLLL\""
   ]
  },
  {
   "cell_type": "code",
   "execution_count": 202,
   "id": "d8fcb76b",
   "metadata": {},
   "outputs": [
    {
     "data": {
      "text/plain": [
       "0.0"
      ]
     },
     "execution_count": 202,
     "metadata": {},
     "output_type": "execute_result"
    }
   ],
   "source": [
    "compute_form(s11)"
   ]
  },
  {
   "cell_type": "code",
   "execution_count": null,
   "id": "d038c32b",
   "metadata": {},
   "outputs": [],
   "source": []
  },
  {
   "cell_type": "code",
   "execution_count": null,
   "id": "023ae070",
   "metadata": {},
   "outputs": [],
   "source": []
  },
  {
   "cell_type": "code",
   "execution_count": 27,
   "id": "f6956a6e",
   "metadata": {},
   "outputs": [],
   "source": [
    "for i in s1:\n",
    "    list_string.append(i)"
   ]
  },
  {
   "cell_type": "code",
   "execution_count": 28,
   "id": "ba87d026",
   "metadata": {},
   "outputs": [
    {
     "data": {
      "text/plain": [
       "['L', 'L', 'D', 'W', 'W', 'W']"
      ]
     },
     "execution_count": 28,
     "metadata": {},
     "output_type": "execute_result"
    }
   ],
   "source": [
    "list_string[::-1]"
   ]
  },
  {
   "cell_type": "code",
   "execution_count": 11,
   "id": "af79e637",
   "metadata": {},
   "outputs": [],
   "source": []
  },
  {
   "cell_type": "code",
   "execution_count": 89,
   "id": "cc849e8a",
   "metadata": {},
   "outputs": [],
   "source": [
    "list1 = []\n",
    "residual = 1\n",
    "\n",
    "for i in range(40):\n",
    "    ratio = 0.15\n",
    "    coefficient = ratio * residual\n",
    "    list1.append(coefficient)\n",
    "    residual -= coefficient"
   ]
  },
  {
   "cell_type": "code",
   "execution_count": 90,
   "id": "a7aab76c",
   "metadata": {},
   "outputs": [
    {
     "data": {
      "text/plain": [
       "[0.15, 0.1275, 0.10837499999999999, 0.09211874999999999, 0.07830093749999999]"
      ]
     },
     "execution_count": 90,
     "metadata": {},
     "output_type": "execute_result"
    }
   ],
   "source": [
    "list1[:5]"
   ]
  },
  {
   "cell_type": "code",
   "execution_count": 91,
   "id": "4486ff14",
   "metadata": {},
   "outputs": [
    {
     "data": {
      "text/plain": [
       "0.8031255956592773"
      ]
     },
     "execution_count": 91,
     "metadata": {},
     "output_type": "execute_result"
    }
   ],
   "source": [
    "sum(list1[:10])"
   ]
  },
  {
   "cell_type": "code",
   "execution_count": null,
   "id": "c27ea48a",
   "metadata": {},
   "outputs": [],
   "source": []
  },
  {
   "cell_type": "code",
   "execution_count": 88,
   "id": "c15f4f1c",
   "metadata": {},
   "outputs": [
    {
     "data": {
      "text/plain": [
       "0.9976015092398706"
      ]
     },
     "execution_count": 88,
     "metadata": {},
     "output_type": "execute_result"
    }
   ],
   "source": [
    "sum(list1)"
   ]
  },
  {
   "cell_type": "code",
   "execution_count": null,
   "id": "1cbd8454",
   "metadata": {},
   "outputs": [],
   "source": []
  },
  {
   "cell_type": "code",
   "execution_count": null,
   "id": "6d23535f",
   "metadata": {},
   "outputs": [],
   "source": []
  },
  {
   "cell_type": "code",
   "execution_count": null,
   "id": "26dca731",
   "metadata": {},
   "outputs": [],
   "source": []
  },
  {
   "cell_type": "code",
   "execution_count": null,
   "id": "89f2f342",
   "metadata": {},
   "outputs": [],
   "source": []
  }
 ],
 "metadata": {
  "kernelspec": {
   "display_name": "Python 3 (ipykernel)",
   "language": "python",
   "name": "python3"
  },
  "language_info": {
   "codemirror_mode": {
    "name": "ipython",
    "version": 3
   },
   "file_extension": ".py",
   "mimetype": "text/x-python",
   "name": "python",
   "nbconvert_exporter": "python",
   "pygments_lexer": "ipython3",
   "version": "3.9.13"
  }
 },
 "nbformat": 4,
 "nbformat_minor": 5
}
